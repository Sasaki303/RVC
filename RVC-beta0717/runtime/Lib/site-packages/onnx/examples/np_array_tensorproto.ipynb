version https://git-lfs.github.com/spec/v1
oid sha256:0bd2e157b13f989a7b56b7c501e35173bc8c01a4fe134280ca3ebe6396e427b6
size 3415
